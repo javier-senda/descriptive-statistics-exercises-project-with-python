{
    "cells": [
        {
            "cell_type": "markdown",
            "id": "ac622319",
            "metadata": {},
            "source": [
                "# Descriptive statistics problems"
            ]
        },
        {
            "cell_type": "markdown",
            "id": "5e0ab0d5",
            "metadata": {},
            "source": [
                "### Exercise 1\n",
                "\n",
                "We will use NumPy to obtain information to describe statistically.\n",
                "\n",
                "- Generate an array of 100 elements following a normal distribution.\n",
                "- Generate an array of 100 elements following a chi-square distribution with 3 degrees of freedom.\n",
                "- Calculate the main metrics and statistical measures that best describe the two vectors."
            ]
        },
        {
            "cell_type": "code",
            "execution_count": 16,
            "id": "34720ab6",
            "metadata": {},
            "outputs": [
                {
                    "name": "stdout",
                    "output_type": "stream",
                    "text": [
                        "Media normal: 0.042508849462373696\n",
                        "Media chi: 2.938801859510582\n",
                        "\n",
                        "Mediana normal: 0.0575944234207531\n",
                        "Mediana chi: 2.2750063442114645\n",
                        "\n",
                        "Moda normal: -0.5908700075815267\n",
                        "Moda chi: 3.4378167999504075\n",
                        "\n",
                        "Rango normal: 4.74790703588611\n",
                        "Rango chi: 12.196565537006789\n",
                        "\n",
                        "Varianza normal: 0.9597500805340072\n",
                        "Varianza chi: 6.482844203991631\n",
                        "\n",
                        "Desviación estandar normal: 0.9796683523182768\n",
                        "Desviación estandar chi: 2.546143005408697\n",
                        "\n",
                        "Asimetría normal: -0.10815850193789124\n",
                        "Asimetría chi: 1.4926271657715307\n",
                        "\\Curtosis normal: -0.41006880316955385\n",
                        "Curtosis chi: 2.1822300004834156\n"
                    ]
                }
            ],
            "source": [
                "# TODO\n",
                "\n",
                "import numpy as np\n",
                "import statistics as stats\n",
                "from scipy.stats import skew\n",
                "from scipy.stats import kurtosis\n",
                "\n",
                "normal = np.random.normal(size = 100)\n",
                "chi = np.random.chisquare(3, 100)\n",
                "\n",
                "# Media\n",
                "print(f\"Media normal: {np.mean(normal)}\")\n",
                "print(f\"Media chi: {np.mean(chi)}\")\n",
                "\n",
                "#Mediana\n",
                "print(f\"\\nMediana normal: {stats.median(normal)}\")\n",
                "print(f\"Mediana chi: {stats.median(chi)}\")\n",
                "\n",
                "#Moda\n",
                "print(f\"\\nModa normal: {stats.mode(normal)}\")\n",
                "print(f\"Moda chi: {stats.mode(chi)}\")\n",
                "\n",
                "#Rango\n",
                "rango_normal = max(normal) - min(normal)\n",
                "rango_chi = max(chi) - min(chi)\n",
                "print(f\"\\nRango normal: {rango_normal}\")\n",
                "print(f\"Rango chi: {rango_chi}\")\n",
                "\n",
                "#Varianza\n",
                "print(f\"\\nVarianza normal: {stats.variance(normal)}\")\n",
                "print(f\"Varianza chi: {stats.variance(chi)}\")\n",
                "\n",
                "#Desviación estandar\n",
                "print(f\"\\nDesviación estandar normal: {stats.stdev(normal)}\")\n",
                "print(f\"Desviación estandar chi: {stats.stdev(chi)}\")\n",
                "\n",
                "#Asimetría\n",
                "print(f\"\\nAsimetría normal: {skew(normal)}\")\n",
                "print(f\"Asimetría chi: {skew(chi)}\")\n",
                "\n",
                "#Curtosis\n",
                "print(f\"\\Curtosis normal: {kurtosis(normal)}\")\n",
                "print(f\"Curtosis chi: {kurtosis(chi)}\")\n",
                "\n",
                "\n"
            ]
        },
        {
            "cell_type": "markdown",
            "id": "46c70c3d",
            "metadata": {},
            "source": [
                "### Exercise 2\n",
                "\n",
                "Write a Python program to calculate the standard deviation of the following data:\n",
                "\n",
                "```py\n",
                "data = [4, 2, 5, 8, 6]\n",
                "```"
            ]
        },
        {
            "cell_type": "code",
            "execution_count": 2,
            "id": "d590308e",
            "metadata": {},
            "outputs": [],
            "source": [
                "# TODO"
            ]
        }
    ],
    "metadata": {
        "kernelspec": {
            "display_name": "Python 3",
            "language": "python",
            "name": "python3"
        },
        "language_info": {
            "codemirror_mode": {
                "name": "ipython",
                "version": 3
            },
            "file_extension": ".py",
            "mimetype": "text/x-python",
            "name": "python",
            "nbconvert_exporter": "python",
            "pygments_lexer": "ipython3",
            "version": "3.11.4"
        }
    },
    "nbformat": 4,
    "nbformat_minor": 5
}
