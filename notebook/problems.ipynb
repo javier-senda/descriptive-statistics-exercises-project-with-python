{
    "cells": [
        {
            "cell_type": "markdown",
            "id": "ac622319",
            "metadata": {},
            "source": [
                "# Descriptive statistics problems"
            ]
        },
        {
            "cell_type": "markdown",
            "id": "5e0ab0d5",
            "metadata": {},
            "source": [
                "### Exercise 1\n",
                "\n",
                "We will use NumPy to obtain information to describe statistically.\n",
                "\n",
                "- Generate an array of 100 elements following a normal distribution.\n",
                "- Generate an array of 100 elements following a chi-square distribution with 3 degrees of freedom.\n",
                "- Calculate the main metrics and statistical measures that best describe the two vectors."
            ]
        },
        {
            "cell_type": "code",
            "execution_count": 17,
            "id": "34720ab6",
            "metadata": {},
            "outputs": [
                {
                    "name": "stdout",
                    "output_type": "stream",
                    "text": [
                        "Media normal: 0.060218048292688155\n",
                        "Media chi: 2.788045780766702\n",
                        "\n",
                        "Mediana normal: 0.07281789984175588\n",
                        "Mediana chi: 2.4232804101250967\n",
                        "\n",
                        "Moda normal: -0.4001168090393773\n",
                        "Moda chi: 1.3283220328035867\n",
                        "\n",
                        "Rango normal: 4.71651452282913\n",
                        "Rango chi: 8.937519877000828\n",
                        "\n",
                        "Varianza normal: 0.8553435680075444\n",
                        "Varianza chi: 4.199410264894602\n",
                        "\n",
                        "Desviación estandar normal: 0.9248478620873513\n",
                        "Desviación estandar chi: 2.0492462675077885\n",
                        "\n",
                        "Asimetría normal: -0.024392584841426864\n",
                        "Asimetría chi: 0.8527438184888237\n",
                        "\n",
                        "Curtosis normal: -0.09908235390480824\n",
                        "Curtosis chi: 0.19638874904679682\n"
                    ]
                }
            ],
            "source": [
                "# TODO\n",
                "\n",
                "import numpy as np\n",
                "import statistics as stats\n",
                "from scipy.stats import skew\n",
                "from scipy.stats import kurtosis\n",
                "\n",
                "normal = np.random.normal(size = 100)\n",
                "chi = np.random.chisquare(3, 100)\n",
                "\n",
                "# Media\n",
                "print(f\"Media normal: {np.mean(normal)}\")\n",
                "print(f\"Media chi: {np.mean(chi)}\")\n",
                "\n",
                "#Mediana\n",
                "print(f\"\\nMediana normal: {stats.median(normal)}\")\n",
                "print(f\"Mediana chi: {stats.median(chi)}\")\n",
                "\n",
                "#Moda\n",
                "print(f\"\\nModa normal: {stats.mode(normal)}\")\n",
                "print(f\"Moda chi: {stats.mode(chi)}\")\n",
                "\n",
                "#Rango\n",
                "rango_normal = max(normal) - min(normal)\n",
                "rango_chi = max(chi) - min(chi)\n",
                "print(f\"\\nRango normal: {rango_normal}\")\n",
                "print(f\"Rango chi: {rango_chi}\")\n",
                "\n",
                "#Varianza\n",
                "print(f\"\\nVarianza normal: {stats.variance(normal)}\")\n",
                "print(f\"Varianza chi: {stats.variance(chi)}\")\n",
                "\n",
                "#Desviación estandar\n",
                "print(f\"\\nDesviación estandar normal: {stats.stdev(normal)}\")\n",
                "print(f\"Desviación estandar chi: {stats.stdev(chi)}\")\n",
                "\n",
                "#Asimetría\n",
                "print(f\"\\nAsimetría normal: {skew(normal)}\")\n",
                "print(f\"Asimetría chi: {skew(chi)}\")\n",
                "\n",
                "#Curtosis\n",
                "print(f\"\\nCurtosis normal: {kurtosis(normal)}\")\n",
                "print(f\"Curtosis chi: {kurtosis(chi)}\")\n",
                "\n",
                "\n"
            ]
        },
        {
            "cell_type": "markdown",
            "id": "46c70c3d",
            "metadata": {},
            "source": [
                "### Exercise 2\n",
                "\n",
                "Write a Python program to calculate the standard deviation of the following data:\n",
                "\n",
                "```py\n",
                "data = [4, 2, 5, 8, 6]\n",
                "```"
            ]
        },
        {
            "cell_type": "code",
            "execution_count": 2,
            "id": "d590308e",
            "metadata": {},
            "outputs": [],
            "source": [
                "# TODO"
            ]
        }
    ],
    "metadata": {
        "kernelspec": {
            "display_name": "Python 3",
            "language": "python",
            "name": "python3"
        },
        "language_info": {
            "codemirror_mode": {
                "name": "ipython",
                "version": 3
            },
            "file_extension": ".py",
            "mimetype": "text/x-python",
            "name": "python",
            "nbconvert_exporter": "python",
            "pygments_lexer": "ipython3",
            "version": "3.11.4"
        }
    },
    "nbformat": 4,
    "nbformat_minor": 5
}
